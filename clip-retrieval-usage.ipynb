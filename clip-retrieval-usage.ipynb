{
 "cells": [
  {
   "cell_type": "markdown",
   "metadata": {},
   "source": [
    "# Clip retrieval\n",
    "\n",
    "Notebook to use the published huggingface index using [clip retrieval](https://github.com/rom1504/clip-retrieval). "
   ]
  },
  {
   "cell_type": "code",
   "execution_count": 1,
   "metadata": {
    "tags": []
   },
   "outputs": [
    {
     "name": "stdout",
     "output_type": "stream",
     "text": [
      "Requirement already satisfied: dask in /opt/conda/lib/python3.10/site-packages (2024.1.1)\n",
      "Requirement already satisfied: huggingface_hub in /opt/conda/lib/python3.10/site-packages (0.21.4)\n",
      "Requirement already satisfied: click>=8.1 in /opt/conda/lib/python3.10/site-packages (from dask) (8.1.7)\n",
      "Requirement already satisfied: cloudpickle>=1.5.0 in /opt/conda/lib/python3.10/site-packages (from dask) (3.0.0)\n",
      "Requirement already satisfied: fsspec>=2021.09.0 in /opt/conda/lib/python3.10/site-packages (from dask) (2023.12.2)\n",
      "Requirement already satisfied: packaging>=20.0 in /opt/conda/lib/python3.10/site-packages (from dask) (23.2)\n",
      "Requirement already satisfied: partd>=1.2.0 in /opt/conda/lib/python3.10/site-packages (from dask) (1.4.1)\n",
      "Requirement already satisfied: pyyaml>=5.3.1 in /opt/conda/lib/python3.10/site-packages (from dask) (6.0.1)\n",
      "Requirement already satisfied: toolz>=0.10.0 in /opt/conda/lib/python3.10/site-packages (from dask) (0.12.1)\n",
      "Requirement already satisfied: importlib-metadata>=4.13.0 in /opt/conda/lib/python3.10/site-packages (from dask) (6.11.0)\n",
      "Requirement already satisfied: filelock in /opt/conda/lib/python3.10/site-packages (from huggingface_hub) (3.13.1)\n",
      "Requirement already satisfied: requests in /opt/conda/lib/python3.10/site-packages (from huggingface_hub) (2.31.0)\n",
      "Requirement already satisfied: tqdm>=4.42.1 in /opt/conda/lib/python3.10/site-packages (from huggingface_hub) (4.66.1)\n",
      "Requirement already satisfied: typing-extensions>=3.7.4.3 in /opt/conda/lib/python3.10/site-packages (from huggingface_hub) (4.9.0)\n",
      "Requirement already satisfied: zipp>=0.5 in /opt/conda/lib/python3.10/site-packages (from importlib-metadata>=4.13.0->dask) (3.17.0)\n",
      "Requirement already satisfied: locket in /opt/conda/lib/python3.10/site-packages (from partd>=1.2.0->dask) (1.0.0)\n",
      "Requirement already satisfied: charset-normalizer<4,>=2 in /opt/conda/lib/python3.10/site-packages (from requests->huggingface_hub) (3.3.2)\n",
      "Requirement already satisfied: idna<4,>=2.5 in /opt/conda/lib/python3.10/site-packages (from requests->huggingface_hub) (3.6)\n",
      "Requirement already satisfied: urllib3<3,>=1.21.1 in /opt/conda/lib/python3.10/site-packages (from requests->huggingface_hub) (1.26.18)\n",
      "Requirement already satisfied: certifi>=2017.4.17 in /opt/conda/lib/python3.10/site-packages (from requests->huggingface_hub) (2023.11.17)\n"
     ]
    }
   ],
   "source": [
    "!pip install dask huggingface_hub"
   ]
  },
  {
   "cell_type": "markdown",
   "metadata": {},
   "source": [
    "Clip retrieval expect the following structure: \n",
    "\n",
    "- image_index/\n",
    "  - image.index\n",
    "  - metadata/\n",
    "    - file1.parquet\n",
    "    - file2.parquet\n",
    "    - ...\n",
    "\n",
    "Following the [getting started](https://github.com/rom1504/clip-retrieval/blob/main/notebook/clip-retrieval-getting-started.ipynb), the metadata should contain the path to the image (on local machine). Clip filter can work with urls as well. "
   ]
  },
  {
   "cell_type": "code",
   "execution_count": 3,
   "metadata": {
    "tags": []
   },
   "outputs": [],
   "source": [
    "import dask.dataframe as dd\n",
    "\n",
    "ddf = dd.read_parquet(\"hf://datasets/fondant-ai/datacomp-small-clip/id_mapping\")\n",
    "\n",
    "# Reset index and rename columns\n",
    "ddf = ddf.reset_index(drop=False)"
   ]
  },
  {
   "cell_type": "code",
   "execution_count": 4,
   "metadata": {
    "tags": []
   },
   "outputs": [],
   "source": [
    "ddf = ddf.assign(image_path=ddf['url']) # duplicate url column to image_path, without image path we will run into issues"
   ]
  },
  {
   "cell_type": "code",
   "execution_count": 5,
   "metadata": {
    "tags": []
   },
   "outputs": [],
   "source": [
    "# Set index\n",
    "ddf = ddf.set_index(\"i\") # the column i is the image idx used in the faiss idx\n",
    "ddf = ddf[['url', 'image_path']]"
   ]
  },
  {
   "cell_type": "code",
   "execution_count": 6,
   "metadata": {
    "tags": []
   },
   "outputs": [],
   "source": [
    "# Create folder structure\n",
    "!mkdir index_folder"
   ]
  },
  {
   "cell_type": "code",
   "execution_count": 8,
   "metadata": {
    "tags": []
   },
   "outputs": [],
   "source": [
    "# Export to parquet\n",
    "ddf.to_parquet(\"index_folder/metadata\")"
   ]
  },
  {
   "cell_type": "markdown",
   "metadata": {},
   "source": [
    "# Faiss index"
   ]
  },
  {
   "cell_type": "code",
   "execution_count": 9,
   "metadata": {
    "tags": []
   },
   "outputs": [],
   "source": [
    "# Download faiss index\n",
    "import fsspec\n",
    "\n",
    "index_path = \"hf://datasets/fondant-ai/datacomp-small-clip/faiss\"\n",
    "with fsspec.open(index_path, \"rb\") as f:\n",
    "    file_contents = f.read()\n",
    "\n",
    "# Save as image.index\n",
    "with open(\"index_folder/image.index\", \"wb\") as out:\n",
    "    out.write(file_contents)"
   ]
  },
  {
   "cell_type": "markdown",
   "metadata": {},
   "source": [
    "# Clip retrieval"
   ]
  },
  {
   "cell_type": "code",
   "execution_count": 7,
   "metadata": {
    "tags": []
   },
   "outputs": [
    {
     "name": "stdout",
     "output_type": "stream",
     "text": [
      "Requirement already satisfied: clip-retrieval in /opt/conda/lib/python3.10/site-packages (2.44.0)\n",
      "Requirement already satisfied: faiss-cpu in /opt/conda/lib/python3.10/site-packages (1.8.0)\n",
      "Requirement already satisfied: img2dataset<2,>=1.25.5 in /opt/conda/lib/python3.10/site-packages (from clip-retrieval) (1.45.0)\n",
      "Requirement already satisfied: clip-anytorch<3,>=2.5.0 in /opt/conda/lib/python3.10/site-packages (from clip-retrieval) (2.6.0)\n",
      "Requirement already satisfied: tqdm<5,>=4.62.3 in /opt/conda/lib/python3.10/site-packages (from clip-retrieval) (4.66.1)\n",
      "Requirement already satisfied: fire<0.6.0,>=0.4.0 in /opt/conda/lib/python3.10/site-packages (from clip-retrieval) (0.5.0)\n",
      "Requirement already satisfied: torch<3,>=1.7.1 in /opt/conda/lib/python3.10/site-packages (from clip-retrieval) (2.0.0+cu118)\n",
      "Requirement already satisfied: torchvision<2,>=0.10.1 in /opt/conda/lib/python3.10/site-packages (from clip-retrieval) (0.15.1+cu118)\n",
      "Requirement already satisfied: numpy<2,>=1.19.5 in /opt/conda/lib/python3.10/site-packages (from clip-retrieval) (1.25.2)\n",
      "Requirement already satisfied: flask<4,>=3.0.0 in /opt/conda/lib/python3.10/site-packages (from clip-retrieval) (3.0.2)\n",
      "Requirement already satisfied: flask-restful<1,>=0.3.9 in /opt/conda/lib/python3.10/site-packages (from clip-retrieval) (0.3.10)\n",
      "Requirement already satisfied: flask-cors<5,>=4.0.0 in /opt/conda/lib/python3.10/site-packages (from clip-retrieval) (4.0.0)\n",
      "Requirement already satisfied: pandas<3,>=1.1.5 in /opt/conda/lib/python3.10/site-packages (from clip-retrieval) (1.5.3)\n",
      "Requirement already satisfied: pyarrow<15,>=6.0.1 in /opt/conda/lib/python3.10/site-packages (from clip-retrieval) (14.0.2)\n",
      "Requirement already satisfied: autofaiss<3,>=2.9.6 in /opt/conda/lib/python3.10/site-packages (from clip-retrieval) (2.17.0)\n",
      "Requirement already satisfied: webdataset<0.3,>=0.2 in /opt/conda/lib/python3.10/site-packages (from clip-retrieval) (0.2.86)\n",
      "Requirement already satisfied: h5py<4,>=3.1.0 in /opt/conda/lib/python3.10/site-packages (from clip-retrieval) (3.10.0)\n",
      "Requirement already satisfied: prometheus-client<1,>=0.13.1 in /opt/conda/lib/python3.10/site-packages (from clip-retrieval) (0.19.0)\n",
      "Requirement already satisfied: fsspec in /opt/conda/lib/python3.10/site-packages (from clip-retrieval) (2023.12.2)\n",
      "Requirement already satisfied: sentence-transformers<3,>=2.2.0 in /opt/conda/lib/python3.10/site-packages (from clip-retrieval) (2.5.1)\n",
      "Requirement already satisfied: wandb<0.17,>=0.12.0 in /opt/conda/lib/python3.10/site-packages (from clip-retrieval) (0.16.4)\n",
      "Requirement already satisfied: open-clip-torch<3.0.0,>=2.0.0 in /opt/conda/lib/python3.10/site-packages (from clip-retrieval) (2.24.0)\n",
      "Requirement already satisfied: requests<3,>=2.27.1 in /opt/conda/lib/python3.10/site-packages (from clip-retrieval) (2.31.0)\n",
      "Requirement already satisfied: aiohttp<4,>=3.8.1 in /opt/conda/lib/python3.10/site-packages (from clip-retrieval) (3.9.2)\n",
      "Requirement already satisfied: multilingual-clip<2,>=1.0.10 in /opt/conda/lib/python3.10/site-packages (from clip-retrieval) (1.0.10)\n",
      "Requirement already satisfied: transformers in /opt/conda/lib/python3.10/site-packages (from clip-retrieval) (4.38.2)\n",
      "Requirement already satisfied: urllib3<2 in /opt/conda/lib/python3.10/site-packages (from clip-retrieval) (1.26.18)\n",
      "Requirement already satisfied: scipy<1.12 in /opt/conda/lib/python3.10/site-packages (from clip-retrieval) (1.11.4)\n",
      "Requirement already satisfied: all-clip<2 in /opt/conda/lib/python3.10/site-packages (from clip-retrieval) (1.2.0)\n",
      "Requirement already satisfied: aiosignal>=1.1.2 in /opt/conda/lib/python3.10/site-packages (from aiohttp<4,>=3.8.1->clip-retrieval) (1.3.1)\n",
      "Requirement already satisfied: attrs>=17.3.0 in /opt/conda/lib/python3.10/site-packages (from aiohttp<4,>=3.8.1->clip-retrieval) (23.2.0)\n",
      "Requirement already satisfied: frozenlist>=1.1.1 in /opt/conda/lib/python3.10/site-packages (from aiohttp<4,>=3.8.1->clip-retrieval) (1.4.1)\n",
      "Requirement already satisfied: multidict<7.0,>=4.5 in /opt/conda/lib/python3.10/site-packages (from aiohttp<4,>=3.8.1->clip-retrieval) (6.0.4)\n",
      "Requirement already satisfied: yarl<2.0,>=1.0 in /opt/conda/lib/python3.10/site-packages (from aiohttp<4,>=3.8.1->clip-retrieval) (1.9.4)\n",
      "Requirement already satisfied: async-timeout<5.0,>=4.0 in /opt/conda/lib/python3.10/site-packages (from aiohttp<4,>=3.8.1->clip-retrieval) (4.0.3)\n",
      "Requirement already satisfied: embedding-reader<2,>=1.5.1 in /opt/conda/lib/python3.10/site-packages (from autofaiss<3,>=2.9.6->clip-retrieval) (1.7.0)\n",
      "Requirement already satisfied: ftfy in /opt/conda/lib/python3.10/site-packages (from clip-anytorch<3,>=2.5.0->clip-retrieval) (6.1.3)\n",
      "Requirement already satisfied: regex in /opt/conda/lib/python3.10/site-packages (from clip-anytorch<3,>=2.5.0->clip-retrieval) (2023.12.25)\n",
      "Requirement already satisfied: six in /opt/conda/lib/python3.10/site-packages (from fire<0.6.0,>=0.4.0->clip-retrieval) (1.16.0)\n",
      "Requirement already satisfied: termcolor in /opt/conda/lib/python3.10/site-packages (from fire<0.6.0,>=0.4.0->clip-retrieval) (2.4.0)\n",
      "Requirement already satisfied: Werkzeug>=3.0.0 in /opt/conda/lib/python3.10/site-packages (from flask<4,>=3.0.0->clip-retrieval) (3.0.1)\n",
      "Requirement already satisfied: Jinja2>=3.1.2 in /opt/conda/lib/python3.10/site-packages (from flask<4,>=3.0.0->clip-retrieval) (3.1.3)\n",
      "Requirement already satisfied: itsdangerous>=2.1.2 in /opt/conda/lib/python3.10/site-packages (from flask<4,>=3.0.0->clip-retrieval) (2.1.2)\n",
      "Requirement already satisfied: click>=8.1.3 in /opt/conda/lib/python3.10/site-packages (from flask<4,>=3.0.0->clip-retrieval) (8.1.7)\n",
      "Requirement already satisfied: blinker>=1.6.2 in /opt/conda/lib/python3.10/site-packages (from flask<4,>=3.0.0->clip-retrieval) (1.7.0)\n",
      "Requirement already satisfied: aniso8601>=0.82 in /opt/conda/lib/python3.10/site-packages (from flask-restful<1,>=0.3.9->clip-retrieval) (9.0.1)\n",
      "Requirement already satisfied: pytz in /opt/conda/lib/python3.10/site-packages (from flask-restful<1,>=0.3.9->clip-retrieval) (2023.4)\n",
      "Requirement already satisfied: opencv-python-headless<5,>=4.5.5.62 in /opt/conda/lib/python3.10/site-packages (from img2dataset<2,>=1.25.5->clip-retrieval) (4.9.0.80)\n",
      "Requirement already satisfied: exifread-nocycle<4,>=3.0.1 in /opt/conda/lib/python3.10/site-packages (from img2dataset<2,>=1.25.5->clip-retrieval) (3.0.1)\n",
      "Requirement already satisfied: albumentations<2,>=1.1.0 in /opt/conda/lib/python3.10/site-packages (from img2dataset<2,>=1.25.5->clip-retrieval) (1.4.1)\n",
      "Requirement already satisfied: dataclasses<1.0.0,>=0.6 in /opt/conda/lib/python3.10/site-packages (from img2dataset<2,>=1.25.5->clip-retrieval) (0.6)\n",
      "Requirement already satisfied: huggingface-hub in /opt/conda/lib/python3.10/site-packages (from open-clip-torch<3.0.0,>=2.0.0->clip-retrieval) (0.21.4)\n",
      "Requirement already satisfied: sentencepiece in /opt/conda/lib/python3.10/site-packages (from open-clip-torch<3.0.0,>=2.0.0->clip-retrieval) (0.2.0)\n",
      "Requirement already satisfied: protobuf in /opt/conda/lib/python3.10/site-packages (from open-clip-torch<3.0.0,>=2.0.0->clip-retrieval) (4.25.3)\n",
      "Requirement already satisfied: timm in /opt/conda/lib/python3.10/site-packages (from open-clip-torch<3.0.0,>=2.0.0->clip-retrieval) (0.9.16)\n",
      "Requirement already satisfied: python-dateutil>=2.8.1 in /opt/conda/lib/python3.10/site-packages (from pandas<3,>=1.1.5->clip-retrieval) (2.8.2)\n",
      "Requirement already satisfied: charset-normalizer<4,>=2 in /opt/conda/lib/python3.10/site-packages (from requests<3,>=2.27.1->clip-retrieval) (3.3.2)\n",
      "Requirement already satisfied: idna<4,>=2.5 in /opt/conda/lib/python3.10/site-packages (from requests<3,>=2.27.1->clip-retrieval) (3.6)\n",
      "Requirement already satisfied: certifi>=2017.4.17 in /opt/conda/lib/python3.10/site-packages (from requests<3,>=2.27.1->clip-retrieval) (2023.11.17)\n",
      "Requirement already satisfied: scikit-learn in /opt/conda/lib/python3.10/site-packages (from sentence-transformers<3,>=2.2.0->clip-retrieval) (1.4.0)\n",
      "Requirement already satisfied: Pillow in /opt/conda/lib/python3.10/site-packages (from sentence-transformers<3,>=2.2.0->clip-retrieval) (10.2.0)\n",
      "Requirement already satisfied: filelock in /opt/conda/lib/python3.10/site-packages (from torch<3,>=1.7.1->clip-retrieval) (3.13.1)\n",
      "Requirement already satisfied: typing-extensions in /opt/conda/lib/python3.10/site-packages (from torch<3,>=1.7.1->clip-retrieval) (4.9.0)\n",
      "Requirement already satisfied: sympy in /opt/conda/lib/python3.10/site-packages (from torch<3,>=1.7.1->clip-retrieval) (1.12)\n",
      "Requirement already satisfied: networkx in /opt/conda/lib/python3.10/site-packages (from torch<3,>=1.7.1->clip-retrieval) (3.2.1)\n",
      "Requirement already satisfied: triton==2.0.0 in /opt/conda/lib/python3.10/site-packages (from torch<3,>=1.7.1->clip-retrieval) (2.0.0)\n",
      "Requirement already satisfied: cmake in /opt/conda/lib/python3.10/site-packages (from triton==2.0.0->torch<3,>=1.7.1->clip-retrieval) (3.28.1)\n",
      "Requirement already satisfied: lit in /opt/conda/lib/python3.10/site-packages (from triton==2.0.0->torch<3,>=1.7.1->clip-retrieval) (17.0.6)\n",
      "Requirement already satisfied: packaging>=20.0 in /opt/conda/lib/python3.10/site-packages (from transformers->clip-retrieval) (23.2)\n",
      "Requirement already satisfied: pyyaml>=5.1 in /opt/conda/lib/python3.10/site-packages (from transformers->clip-retrieval) (6.0.1)\n",
      "Requirement already satisfied: tokenizers<0.19,>=0.14 in /opt/conda/lib/python3.10/site-packages (from transformers->clip-retrieval) (0.15.2)\n",
      "Requirement already satisfied: safetensors>=0.4.1 in /opt/conda/lib/python3.10/site-packages (from transformers->clip-retrieval) (0.4.2)\n",
      "Requirement already satisfied: GitPython!=3.1.29,>=1.0.0 in /opt/conda/lib/python3.10/site-packages (from wandb<0.17,>=0.12.0->clip-retrieval) (3.1.41)\n",
      "Requirement already satisfied: psutil>=5.0.0 in /opt/conda/lib/python3.10/site-packages (from wandb<0.17,>=0.12.0->clip-retrieval) (5.9.3)\n",
      "Requirement already satisfied: sentry-sdk>=1.0.0 in /opt/conda/lib/python3.10/site-packages (from wandb<0.17,>=0.12.0->clip-retrieval) (1.41.0)\n",
      "Requirement already satisfied: docker-pycreds>=0.4.0 in /opt/conda/lib/python3.10/site-packages (from wandb<0.17,>=0.12.0->clip-retrieval) (0.4.0)\n",
      "Requirement already satisfied: setproctitle in /opt/conda/lib/python3.10/site-packages (from wandb<0.17,>=0.12.0->clip-retrieval) (1.3.3)\n",
      "Requirement already satisfied: setuptools in /opt/conda/lib/python3.10/site-packages (from wandb<0.17,>=0.12.0->clip-retrieval) (69.0.3)\n",
      "Requirement already satisfied: appdirs>=1.4.3 in /opt/conda/lib/python3.10/site-packages (from wandb<0.17,>=0.12.0->clip-retrieval) (1.4.4)\n",
      "Requirement already satisfied: braceexpand in /opt/conda/lib/python3.10/site-packages (from webdataset<0.3,>=0.2->clip-retrieval) (0.1.7)\n",
      "Requirement already satisfied: scikit-image>=0.21.0 in /opt/conda/lib/python3.10/site-packages (from albumentations<2,>=1.1.0->img2dataset<2,>=1.25.5->clip-retrieval) (0.22.0)\n",
      "Requirement already satisfied: gitdb<5,>=4.0.1 in /opt/conda/lib/python3.10/site-packages (from GitPython!=3.1.29,>=1.0.0->wandb<0.17,>=0.12.0->clip-retrieval) (4.0.11)\n",
      "Requirement already satisfied: MarkupSafe>=2.0 in /opt/conda/lib/python3.10/site-packages (from Jinja2>=3.1.2->flask<4,>=3.0.0->clip-retrieval) (2.1.4)\n",
      "Requirement already satisfied: joblib>=1.2.0 in /opt/conda/lib/python3.10/site-packages (from scikit-learn->sentence-transformers<3,>=2.2.0->clip-retrieval) (1.3.2)\n",
      "Requirement already satisfied: threadpoolctl>=2.0.0 in /opt/conda/lib/python3.10/site-packages (from scikit-learn->sentence-transformers<3,>=2.2.0->clip-retrieval) (3.2.0)\n",
      "Requirement already satisfied: wcwidth<0.3.0,>=0.2.12 in /opt/conda/lib/python3.10/site-packages (from ftfy->clip-anytorch<3,>=2.5.0->clip-retrieval) (0.2.13)\n",
      "Requirement already satisfied: mpmath>=0.19 in /opt/conda/lib/python3.10/site-packages (from sympy->torch<3,>=1.7.1->clip-retrieval) (1.3.0)\n",
      "Requirement already satisfied: smmap<6,>=3.0.1 in /opt/conda/lib/python3.10/site-packages (from gitdb<5,>=4.0.1->GitPython!=3.1.29,>=1.0.0->wandb<0.17,>=0.12.0->clip-retrieval) (5.0.1)\n",
      "Requirement already satisfied: imageio>=2.27 in /opt/conda/lib/python3.10/site-packages (from scikit-image>=0.21.0->albumentations<2,>=1.1.0->img2dataset<2,>=1.25.5->clip-retrieval) (2.33.1)\n",
      "Requirement already satisfied: tifffile>=2022.8.12 in /opt/conda/lib/python3.10/site-packages (from scikit-image>=0.21.0->albumentations<2,>=1.1.0->img2dataset<2,>=1.25.5->clip-retrieval) (2023.12.9)\n",
      "Requirement already satisfied: lazy_loader>=0.3 in /opt/conda/lib/python3.10/site-packages (from scikit-image>=0.21.0->albumentations<2,>=1.1.0->img2dataset<2,>=1.25.5->clip-retrieval) (0.3)\n"
     ]
    }
   ],
   "source": [
    "!pip install clip-retrieval faiss-cpu"
   ]
  },
  {
   "cell_type": "code",
   "execution_count": 1,
   "metadata": {
    "tags": []
   },
   "outputs": [
    {
     "name": "stdout",
     "output_type": "stream",
     "text": [
      "Found 5 items with query 'cat'\n",
      "The minimum distance is 1.54 and the maximum is 1.70\n",
      "You may want to use these numbers to increase your --num_results parameter. Or use the --threshold parameter.\n",
      "Copying the images in cat/\n",
      "https://familia.willamowski.org/index.php?route=%2Ftree%2FWillamowski%2Fmedia-thumbnail&xref=M940&fact_id=d25530d141ec6c2a163d2457148bac82&w=100&h=100&fit=contain&mark=1&s=747d2a7b91064c3581ffaaf1f7c58d11\n",
      "http://bright-media.brightmls.com/bright/images/0000/3021/8988/7272/302189887272_1440_1080_WM_4ZLKWGPvExnMZd-G.jpg\n",
      "http://www.phonesreview.co.uk/wp-content/phoneimages/Google-Motorola-X-phone-release-claimed-to-shake-up-industry.jpg\n",
      "https://www.allianceonline.co.uk/blog/wp-content/uploads/2018/11/pexels-photo-887827-1.jpeg\n",
      "https://shop.shera.de/media/catalog/product/cache/a6bb0ee3d4b190da50cace3e771cdde4/S/I/SI160_4.jpg\n"
     ]
    }
   ],
   "source": [
    "!clip-retrieval filter --query \"cat\" --output_folder \"cat/\" --indice_folder \"index_folder\" --num_results 5"
   ]
  },
  {
   "cell_type": "markdown",
   "metadata": {},
   "source": [
    "`clip-retrieval filter ...` works, however for some reasons we don't find `cat` pictures in this case. \n",
    "\n",
    "Also the image folder doesn't contain any images since the images are not available on the local machine. "
   ]
  },
  {
   "cell_type": "code",
   "execution_count": 4,
   "metadata": {
    "tags": []
   },
   "outputs": [
    {
     "name": "stdout",
     "output_type": "stream",
     "text": [
      "cat:\n"
     ]
    }
   ],
   "source": [
    "!ls -R cat"
   ]
  },
  {
   "cell_type": "markdown",
   "metadata": {},
   "source": [
    "# Host index\n",
    "\n",
    "Tunneling works, but the webui dosen't display any images. Probably cause they are not available on the local machine."
   ]
  },
  {
   "cell_type": "code",
   "execution_count": 2,
   "metadata": {
    "tags": []
   },
   "outputs": [
    {
     "name": "stdout",
     "output_type": "stream",
     "text": [
      "\n",
      "changed 22 packages in 2s\n",
      "\n",
      "3 packages are looking for funding\n",
      "  run `npm fund` for details\n",
      "starting boot of clip back\n",
      "warming up with batch size 1 on cpu\n",
      "done warming up in 3.9866015911102295s\n",
      "/opt/conda/lib/python3.10/site-packages/torch/_utils.py:776: UserWarning: TypedStorage is deprecated. It will be removed in the future and UntypedStorage will be the only storage class. This should only matter to you if you are using storages directly.  To access UntypedStorage directly, use tensor.untyped_storage() instead of tensor.storage()\n",
      "  return self.fget.__get__(instance, owner)()\n",
      "tokenizer_config.json: 100%|███████████████████| 399/399 [00:00<00:00, 1.49MB/s]\n",
      "sentencepiece.bpe.model: 100%|██████████████| 5.07M/5.07M [00:00<00:00, 121MB/s]\n",
      "tokenizer.json: 100%|██████████████████████| 9.08M/9.08M [00:00<00:00, 15.4MB/s]\n",
      "special_tokens_map.json: 100%|██████████████████| 239/239 [00:00<00:00, 947kB/s]\n"
     ]
    }
   ],
   "source": [
    "%%bash\n",
    "echo '{\"example_index\": \"index_folder\"}' > indices_paths.json\n",
    "npm install -g localtunnel"
   ]
  },
  {
   "cell_type": "code",
   "execution_count": null,
   "metadata": {
    "tags": []
   },
   "outputs": [
    {
     "name": "stdout",
     "output_type": "stream",
     "text": [
      "your url is: https://salty-pears-jump.loca.lt\n"
     ]
    }
   ],
   "source": [
    "from threading import Thread\n",
    "#import ssl\n",
    "#ssl._create_default_https_context = ssl._create_unverified_context\n",
    "\n",
    "def app():\n",
    "  !clip-retrieval back --port 1234 --indices-paths indices_paths.json\n",
    "\n",
    "if __name__ == '__main__':\n",
    "    t1 = Thread(target = app)\n",
    "    a = t1.start()\n",
    "    !lt --port 1234"
   ]
  }
 ],
 "metadata": {
  "environment": {
   "kernel": "python3",
   "name": ".m116",
   "type": "gcloud",
   "uri": "gcr.io/deeplearning-platform-release/:m116"
  },
  "kernelspec": {
   "display_name": "Python 3",
   "language": "python",
   "name": "python3"
  },
  "language_info": {
   "codemirror_mode": {
    "name": "ipython",
    "version": 3
   },
   "file_extension": ".py",
   "mimetype": "text/x-python",
   "name": "python",
   "nbconvert_exporter": "python",
   "pygments_lexer": "ipython3",
   "version": "3.11.6"
  }
 },
 "nbformat": 4,
 "nbformat_minor": 4
}
