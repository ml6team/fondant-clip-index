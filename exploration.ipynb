{
 "cells": [
  {
   "cell_type": "code",
   "execution_count": null,
   "id": "18162279-12c6-4a52-bc5e-2fa552d33123",
   "metadata": {},
   "outputs": [],
   "source": [
    "!pip install transformers==4.37.2 torch==2.2.0"
   ]
  },
  {
   "cell_type": "markdown",
   "id": "b51b4bbc-51a2-4eea-a63a-f24268dd7702",
   "metadata": {},
   "source": [
    "## Load config"
   ]
  },
  {
   "cell_type": "code",
   "execution_count": null,
   "id": "8f7d7b97-eac0-496e-a643-f3fda6a54f56",
   "metadata": {},
   "outputs": [],
   "source": [
    "from config import BASE_PATH, CLIP_MODEL, ID_MAPPING, INDEX_NAME\n",
    "\n",
    "print(f\"Base path: {BASE_PATH}\")\n",
    "print(f\"CLIP model: {CLIP_MODEL}\")\n",
    "print(f\"Index name: {INDEX_NAME}\")\n",
    "print(f\"ID mapping: {ID_MAPPING}\")"
   ]
  },
  {
   "cell_type": "markdown",
   "id": "0b316228-7282-4d57-8096-1ef3046c89de",
   "metadata": {},
   "source": [
    "## Download index"
   ]
  },
  {
   "cell_type": "code",
   "execution_count": null,
   "id": "f20b778a-82ce-4e98-9fc5-be9daf6474d0",
   "metadata": {},
   "outputs": [],
   "source": [
    "import fsspec\n",
    "from config import BASE_PATH, ID_MAPPING, INDEX_NAME\n",
    "\n",
    "index_url = f\"{BASE_PATH}/{INDEX_NAME}\"\n",
    "with fsspec.open(index_url, \"rb\") as f:\n",
    "    file_contents = f.read()\n",
    "\n",
    "    with open(INDEX_NAME, \"wb\") as out:\n",
    "        out.write(file_contents)"
   ]
  },
  {
   "cell_type": "markdown",
   "id": "64d52a67-dc1b-434f-8e1f-00db3c8a81c8",
   "metadata": {},
   "source": [
    "## Build index"
   ]
  },
  {
   "cell_type": "code",
   "execution_count": null,
   "id": "d18dcc50-158d-4c26-b547-03b8c7cf08ea",
   "metadata": {},
   "outputs": [],
   "source": [
    "import faiss\n",
    "import numpy as np\n",
    "ind = faiss.read_index(INDEX_NAME)"
   ]
  },
  {
   "cell_type": "markdown",
   "id": "3d9ca408-737f-400a-a286-0e157ca25664",
   "metadata": {},
   "source": [
    "## Load image urls"
   ]
  },
  {
   "cell_type": "code",
   "execution_count": null,
   "id": "598e8114-7eae-4b15-9eb0-9e64cf67c112",
   "metadata": {},
   "outputs": [],
   "source": [
    "import dask.dataframe as dd"
   ]
  },
  {
   "cell_type": "code",
   "execution_count": null,
   "id": "eae890d0-5bbf-4ee0-92a8-ec0895031b36",
   "metadata": {},
   "outputs": [],
   "source": [
    "ddf = dd.read_parquet(f\"{BASE_PATH}/{ID_MAPPING}\")"
   ]
  },
  {
   "cell_type": "code",
   "execution_count": null,
   "id": "1dc7b467-3355-4fa6-ad70-0338a19741e5",
   "metadata": {},
   "outputs": [],
   "source": [
    "image_urls = ddf[\"url\"].compute().to_list()"
   ]
  },
  {
   "cell_type": "markdown",
   "id": "5398282f-c9bb-4fdf-a58e-17b4d43ef7d3",
   "metadata": {},
   "source": [
    "## Load model"
   ]
  },
  {
   "cell_type": "code",
   "execution_count": null,
   "id": "85ff9a6b-e090-4592-ac6a-dc58b62f0a83",
   "metadata": {},
   "outputs": [],
   "source": [
    "from transformers import AutoTokenizer, CLIPTextModelWithProjection\n",
    "\n",
    "model = CLIPTextModelWithProjection.from_pretrained(CLIP_MODEL)\n",
    "tokenizer = AutoTokenizer.from_pretrained(CLIP_MODEL)"
   ]
  },
  {
   "cell_type": "markdown",
   "id": "aa653e31-9017-451d-a5d6-9595017e3476",
   "metadata": {},
   "source": [
    "## Query"
   ]
  },
  {
   "cell_type": "code",
   "execution_count": null,
   "id": "8f66e595-15f9-4f00-bff9-96d260a0bc2e",
   "metadata": {},
   "outputs": [],
   "source": [
    "prompt = \"A kitchen in country style\"\n",
    "k = 5"
   ]
  },
  {
   "cell_type": "code",
   "execution_count": null,
   "id": "226b7301-add4-4448-8bf2-6544dd640a91",
   "metadata": {},
   "outputs": [],
   "source": [
    "import numpy as np\n",
    "image_number = 2\n",
    "query = np.expand_dims(ind.reconstruct(image_number), 0)"
   ]
  },
  {
   "cell_type": "code",
   "execution_count": null,
   "id": "7330a857-ce9f-4384-9f61-6c4bd6ff32ac",
   "metadata": {},
   "outputs": [],
   "source": [
    "import io\n",
    "import requests\n",
    "from IPython.display import Image\n",
    "\n",
    "inputs = tokenizer([prompt], padding=True, return_tensors=\"pt\")\n",
    "\n",
    "outputs = model(**inputs)\n",
    "query = outputs.text_embeds.cpu().detach().numpy().astype('float64')"
   ]
  },
  {
   "cell_type": "code",
   "execution_count": null,
   "id": "2e7e9717-0d8d-43f5-9279-82bcde663698",
   "metadata": {},
   "outputs": [],
   "source": [
    "distances, indices = ind.search(query, k)\n",
    "print(\"results :\")\n",
    "for d, i in zip(distances[0], indices[0]):\n",
    "    print(\"similarity=\", d)\n",
    "    print(i)\n",
    "    url = image_urls[i]\n",
    "    print(url)\n",
    "    image = requests.get(url).content\n",
    "    display(Image(io.BytesIO(image).getvalue()))"
   ]
  },
  {
   "cell_type": "code",
   "execution_count": null,
   "id": "1a4bb09b-c92c-4b59-b8c5-b339dc677d75",
   "metadata": {},
   "outputs": [],
   "source": []
  }
 ],
 "metadata": {
  "kernelspec": {
   "display_name": "Python 3 (ipykernel)",
   "language": "python",
   "name": "python3"
  },
  "language_info": {
   "codemirror_mode": {
    "name": "ipython",
    "version": 3
   },
   "file_extension": ".py",
   "mimetype": "text/x-python",
   "name": "python",
   "nbconvert_exporter": "python",
   "pygments_lexer": "ipython3",
   "version": "3.10.12"
  }
 },
 "nbformat": 4,
 "nbformat_minor": 5
}
